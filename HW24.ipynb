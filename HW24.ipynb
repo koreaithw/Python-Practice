{
  "nbformat": 4,
  "nbformat_minor": 0,
  "metadata": {
    "colab": {
      "name": "HW24",
      "provenance": [],
      "authorship_tag": "ABX9TyPkh86idGdJQF/Zh0wb31Eh",
      "include_colab_link": true
    },
    "kernelspec": {
      "name": "python3",
      "display_name": "Python 3"
    },
    "language_info": {
      "name": "python"
    }
  },
  "cells": [
    {
      "cell_type": "markdown",
      "metadata": {
        "id": "view-in-github",
        "colab_type": "text"
      },
      "source": [
        "<a href=\"https://colab.research.google.com/github/lje1343/Prac/blob/main/HW24.ipynb\" target=\"_parent\"><img src=\"https://colab.research.google.com/assets/colab-badge.svg\" alt=\"Open In Colab\"/></a>"
      ]
    },
    {
      "cell_type": "code",
      "execution_count": 10,
      "metadata": {
        "id": "2-EgL0bWyBBu",
        "colab": {
          "base_uri": "https://localhost:8080/"
        },
        "outputId": "8f9ef662-bb38-4cb5-bd50-0a15ad1eeee0"
      },
      "outputs": [
        {
          "output_type": "stream",
          "name": "stdout",
          "text": [
            "4 5\n",
            "00110\n",
            "00011\n",
            "11111\n",
            "00000\n",
            "3\n"
          ]
        }
      ],
      "source": [
        "# 알고리즘(44)\n",
        "# DFS - 하나의 정점으로부터 시작하여 차례대로 모든 정점들을 한 번씩 방문하는 알고리즘\n",
        "      # (재귀호출 사용)\n",
        "\n",
        "n, m = map(int, input().split())  # n, m 변수에 얼음틀 사이즈를 입력받는다.\n",
        "\n",
        "graph = []\n",
        "for i in range(n):\n",
        "\t  graph.append(list(map(int, input()))) # list를 이용해 하나의 묶음으로 담아준다.\n",
        "\n",
        "# DFS로 특정한 노드를 방문한 뒤에 연결된 모든 노드들도 방문\n",
        "def ice(i, j):\n",
        "\n",
        "    if i <= -1 or i >= n or j <= -1 or j >= m: # 얼음틀 범위를 벗어나면 종료\n",
        "        return False\n",
        "\n",
        "    if graph[i][j] == 0:  # 얼음틀 범위내에서, 아직 방문하지 않은 경우 (== 0)\n",
        "        graph[i][j] = 1   # 방문으로 변경\n",
        "        ice(i-1, j) # 상하좌우 위치를 모두 재귀호출로 확인해준다.\n",
        "        ice(i, j-1) \n",
        "        ice(i+1, j)\n",
        "        ice(i, j+1)\n",
        "        return True\n",
        "\n",
        "    return False\n",
        "\n",
        "result = 0  # 결과값 변수\n",
        "for i in range(n): # 얼음틀의 행 열 숫자만큼 반복문 실행\n",
        "    for j in range(m):\n",
        "    \t  if ice(i, j) == True:\n",
        "        \t  result += 1\n",
        "\n",
        "print(result) # 결과물 산출"
      ]
    }
  ]
}