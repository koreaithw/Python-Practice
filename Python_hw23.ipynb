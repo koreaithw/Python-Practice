{
  "nbformat": 4,
  "nbformat_minor": 0,
  "metadata": {
    "colab": {
      "name": "Python_hw23",
      "provenance": [],
      "collapsed_sections": [],
      "authorship_tag": "ABX9TyOvT5GqL3rTvSB058LXPDLu",
      "include_colab_link": true
    },
    "kernelspec": {
      "name": "python3",
      "display_name": "Python 3"
    },
    "language_info": {
      "name": "python"
    }
  },
  "cells": [
    {
      "cell_type": "markdown",
      "metadata": {
        "id": "view-in-github",
        "colab_type": "text"
      },
      "source": [
        "<a href=\"https://colab.research.google.com/github/lje1343/Prac/blob/main/Python_hw23.ipynb\" target=\"_parent\"><img src=\"https://colab.research.google.com/assets/colab-badge.svg\" alt=\"Open In Colab\"/></a>"
      ]
    },
    {
      "cell_type": "code",
      "execution_count": 4,
      "metadata": {
        "colab": {
          "base_uri": "https://localhost:8080/"
        },
        "id": "DCG7FdgYrFTj",
        "outputId": "f3a04d65-c56d-4ef8-b636-5de87a1dbfdc"
      },
      "outputs": [
        {
          "output_type": "stream",
          "name": "stdout",
          "text": [
            "나이트의 위치를 설정하세요.a1\n",
            "0 0\n",
            "나이트가 이동할 수 있는 경우의 수는 2가지 입니다.\n"
          ]
        }
      ],
      "source": [
        "# 알고리즘42\n",
        "# int input ord for print\n",
        "\n",
        "knight = input(\"나이트의 위치를 설정하세요.\")\n",
        "c, r = ord(knight[0])-97, int(knight[1])-1  \n",
        "      # 입력받은 문자열에서 각각 열('c'olumn)과 행('r'ow)을 분리하여 정수 형태로 바꿔준다.\n",
        "      # ex.> a1 -> a:0 1:0\n",
        "\n",
        "m_arr = [(c-2,r-1), (c-2,r+1), (c+2, r-1), (c+2, r+1), (c-1, r-2), (c-1, r+2), (c+1, r-2), (c+1, r+2)]\n",
        "        # 나이트가 L자 형태로 이동할 수 있는 모든 8가지 경우의 수를 담아준다.\n",
        "        # ex.> (c-2, r-1)\n",
        "        #       c-2 : 왼쪽으로 두번 이동후, r-1 : 아래로 한칸 이동 (L자 모양)\n",
        "\n",
        "cnt = 0 # 결과값 변수\n",
        "\n",
        "for i in m_arr: # 계산해준 m_arr만큼 돌리며, 체스판의 경계를 벗어나지 않으면 cnt+1 해준다.\n",
        "  if i[0] >= 0 and i[0] <= 7:\n",
        "    if i[1] >= 0 and i[1] <= 7:\n",
        "      cnt+=1\n",
        "\n",
        "print(f\"나이트가 이동할 수 있는 경우의 수는 {cnt}가지 입니다.\") # 결과물 산출\n"
      ]
    },
    {
      "cell_type": "code",
      "source": [
        ""
      ],
      "metadata": {
        "id": "DNcfZYdFvzCN"
      },
      "execution_count": null,
      "outputs": []
    }
  ]
}