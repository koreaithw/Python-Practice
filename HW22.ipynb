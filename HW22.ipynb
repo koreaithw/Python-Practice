{
  "nbformat": 4,
  "nbformat_minor": 0,
  "metadata": {
    "colab": {
      "name": "HW22",
      "provenance": [],
      "collapsed_sections": [],
      "authorship_tag": "ABX9TyPUeYElf7KaASjb5N51zFt3",
      "include_colab_link": true
    },
    "kernelspec": {
      "name": "python3",
      "display_name": "Python 3"
    },
    "language_info": {
      "name": "python"
    }
  },
  "cells": [
    {
      "cell_type": "markdown",
      "metadata": {
        "id": "view-in-github",
        "colab_type": "text"
      },
      "source": [
        "<a href=\"https://colab.research.google.com/github/lje1343/Prac/blob/main/HW22.ipynb\" target=\"_parent\"><img src=\"https://colab.research.google.com/assets/colab-badge.svg\" alt=\"Open In Colab\"/></a>"
      ]
    },
    {
      "cell_type": "code",
      "source": [
        "# 알고리즘 (#41)\n",
        "\n",
        "res_x, res_y = 1,1  # 결과값 x,y 변수\n",
        "n = int(input(\"정수를 입력해주세요.(1<=n<=100) : \"))  # 정사각형 크기 설정\n",
        "plans = input(\"계획서를 입력해주세요.(L/R/U/D) : \").split() # 이동 계획서 설정\n",
        "\n",
        "for i in plans: # 이동 계획서만큼 반복문 실행\n",
        "  if i=='L':  # 공간의 벗어남이 없으면 한칸 왼쪽으로 이동\n",
        "    if(res_y > 1):\n",
        "      res_y-=1\n",
        "  elif i=='R':  # 공간의 벗어남이 없으면 한칸 오른쪽으로 이동\n",
        "    if(res_y < n):\n",
        "      res_y+=1\n",
        "  elif i=='U':  # 공간의 벗어남이 없으면 한칸 위로 이동\n",
        "    if(res_x > 1):\n",
        "      res_x-=1\n",
        "  elif i=='D':  # 공간의 벗어남이 없으면 한칸 아래로 이동\n",
        "    if(res_x < n):\n",
        "      res_x+=1\n",
        "  else:         # 입력형식을 벗어난 경우 반복문 종료\n",
        "    print(\"입력형식이 잘 못 되었습니다.\")\n",
        "    break\n",
        "\n",
        "print(f'최종 도착 지점의 좌표는 x : {res_x}, y : {res_y} 입니다.')  # 결과물 산출\n"
      ],
      "metadata": {
        "colab": {
          "base_uri": "https://localhost:8080/"
        },
        "id": "sMoqZ4Wl3HYI",
        "outputId": "1e269780-f188-479a-c66d-12dca0f502bd"
      },
      "execution_count": null,
      "outputs": [
        {
          "output_type": "stream",
          "name": "stdout",
          "text": [
            "정수를 입력해주세요.(1<=n<=100) : 5\n",
            "계획서를 입력해주세요.(L/R/U/D) : R R u\n",
            "입력형식이 잘 못 되었습니다.\n",
            "최종 도착 지점의 좌표는 x : 1, y : 3 입니다.\n"
          ]
        }
      ]
    },
    {
      "cell_type": "code",
      "source": [
        ""
      ],
      "metadata": {
        "id": "l1gAZMj_AXNC"
      },
      "execution_count": null,
      "outputs": []
    }
  ]
}